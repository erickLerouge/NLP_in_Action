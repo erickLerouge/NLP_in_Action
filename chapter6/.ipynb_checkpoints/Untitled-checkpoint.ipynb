{
 "cells": [
  {
   "cell_type": "code",
   "execution_count": 1,
   "id": "16d4fece",
   "metadata": {},
   "outputs": [],
   "source": [
    "from gensim.models.word2vec import Word2Vec\n",
    "\n"
   ]
  },
  {
   "cell_type": "code",
   "execution_count": 2,
   "id": "3a3cd9d5",
   "metadata": {},
   "outputs": [],
   "source": [
    "model_name = 'moby_dick_embeddings.bin'\n",
    "model = Word2Vec.load(model_name)\n",
    "\n",
    "\n"
   ]
  },
  {
   "cell_type": "code",
   "execution_count": 10,
   "id": "b6d36ddf",
   "metadata": {},
   "outputs": [
    {
     "name": "stdout",
     "output_type": "stream",
     "text": [
      "whales\n",
      "leviathan\n",
      "Leviathan\n",
      "fish\n",
      "vessel\n",
      "elephant\n",
      "whaleman\n",
      "creature\n",
      "monster\n",
      "part\n"
     ]
    }
   ],
   "source": [
    "for t in model.wv.most_similar('whale'):\n",
    "    print(t[0])"
   ]
  },
  {
   "cell_type": "code",
   "execution_count": 6,
   "id": "3dd65dc3",
   "metadata": {},
   "outputs": [
    {
     "data": {
      "text/plain": [
       "[('woman', 0.6291003823280334),\n",
       " ('whaleman', 0.571595311164856),\n",
       " ('sailor', 0.5575333833694458),\n",
       " ('governor', 0.5446456074714661),\n",
       " ('fellow', 0.5384546518325806),\n",
       " ('Mogul', 0.5377927422523499),\n",
       " ('Rad', 0.5361180901527405),\n",
       " ('Manxman', 0.5002564787864685),\n",
       " ('shipmate', 0.48481038212776184),\n",
       " ('age', 0.4665176570415497)]"
      ]
     },
     "execution_count": 6,
     "metadata": {},
     "output_type": "execute_result"
    }
   ],
   "source": [
    "model.wv.most_similar('man')"
   ]
  },
  {
   "cell_type": "code",
   "execution_count": 9,
   "id": "fc4ffec5",
   "metadata": {},
   "outputs": [
    {
     "data": {
      "text/plain": [
       "[('DICTIONARY', 0.8011600375175476),\n",
       " ('pirate', 0.796105146408081),\n",
       " ('Cadiz', 0.7954358458518982),\n",
       " ('KILLER', 0.7942451238632202),\n",
       " ('800', 0.792041540145874),\n",
       " ('Spaniard', 0.7917511463165283),\n",
       " ('IBID', 0.7913317084312439),\n",
       " ('constellation', 0.7889080047607422),\n",
       " ('Cachalot', 0.7875065207481384),\n",
       " ('RECLINING', 0.7873509526252747)]"
      ]
     },
     "execution_count": 9,
     "metadata": {},
     "output_type": "execute_result"
    }
   ],
   "source": [
    "model.wv.most_similar('demon')"
   ]
  },
  {
   "cell_type": "code",
   "execution_count": 1,
   "id": "3cbda4ed",
   "metadata": {},
   "outputs": [],
   "source": [
    "from gensim.models.keyedvectors import KeyedVectors\n",
    "word_vectors = KeyedVectors.load_word2vec_format('/Users/velazquezerick/Documents/NLP_in_action/GoogleNews-vectors-negative300.bin',binary=True)\n",
    "#word_vectors = get_data('word2vec')"
   ]
  },
  {
   "cell_type": "code",
   "execution_count": 3,
   "id": "f6a49ced",
   "metadata": {},
   "outputs": [
    {
     "data": {
      "text/plain": [
       "3000000"
      ]
     },
     "execution_count": 3,
     "metadata": {},
     "output_type": "execute_result"
    }
   ],
   "source": [
    "len(word_vectors)"
   ]
  },
  {
   "cell_type": "code",
   "execution_count": 2,
   "id": "71d2c931",
   "metadata": {},
   "outputs": [
    {
     "data": {
      "text/plain": [
       "[('woman', 0.7664012908935547),\n",
       " ('boy', 0.6824871301651001),\n",
       " ('teenager', 0.6586930155754089),\n",
       " ('teenage_girl', 0.6147903203964233),\n",
       " ('girl', 0.5921714305877686),\n",
       " ('suspected_purse_snatcher', 0.571636438369751),\n",
       " ('robber', 0.5585119128227234),\n",
       " ('Robbery_suspect', 0.5584409832954407),\n",
       " ('teen_ager', 0.5549196600914001),\n",
       " ('men', 0.5489763021469116)]"
      ]
     },
     "execution_count": 2,
     "metadata": {},
     "output_type": "execute_result"
    }
   ],
   "source": [
    "word_vectors.most_similar('man')"
   ]
  },
  {
   "cell_type": "code",
   "execution_count": null,
   "id": "a9bcd6a9",
   "metadata": {},
   "outputs": [],
   "source": []
  }
 ],
 "metadata": {
  "kernelspec": {
   "display_name": "Python 3 (ipykernel)",
   "language": "python",
   "name": "python3"
  },
  "language_info": {
   "codemirror_mode": {
    "name": "ipython",
    "version": 3
   },
   "file_extension": ".py",
   "mimetype": "text/x-python",
   "name": "python",
   "nbconvert_exporter": "python",
   "pygments_lexer": "ipython3",
   "version": "3.9.0"
  }
 },
 "nbformat": 4,
 "nbformat_minor": 5
}
