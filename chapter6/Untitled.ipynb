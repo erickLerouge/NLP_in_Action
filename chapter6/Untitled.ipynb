{
 "cells": [
  {
   "cell_type": "code",
   "execution_count": 12,
   "id": "16d4fece",
   "metadata": {},
   "outputs": [],
   "source": [
    "from gensim.models.word2vec import Word2Vec\n",
    "import pandas as pd\n",
    "from sklearn.decomposition import PCA\n",
    "import seaborn as sns"
   ]
  },
  {
   "cell_type": "code",
   "execution_count": 6,
   "id": "3a3cd9d5",
   "metadata": {},
   "outputs": [],
   "source": [
    "model_name = 'moby_dick_embeddings.bin'\n",
    "word_vectors = Word2Vec.load(model_name)\n",
    "\n",
    "\n"
   ]
  },
  {
   "cell_type": "code",
   "execution_count": 10,
   "id": "ac3a04d7",
   "metadata": {},
   "outputs": [],
   "source": [
    "pca = PCA(n_components = 2)\n",
    "some_words = []\n",
    "tmp = ['man','whale','demon']\n",
    "for word in tmp:\n",
    "    for t in word_vectors.wv.most_similar(word):\n",
    "        some_words.append(word_vectors.wv[t[0]])\n",
    "#us_300D = get_data('cities_us_wordvectors')\n",
    "data_2d = pca.fit_transform(some_words)"
   ]
  },
  {
   "cell_type": "code",
   "execution_count": 13,
   "id": "7eb8dfbd",
   "metadata": {},
   "outputs": [],
   "source": [
    "data_2d = pd.DataFrame(data_2d,columns=['x','y'])"
   ]
  },
  {
   "cell_type": "code",
   "execution_count": 21,
   "id": "2e95de15",
   "metadata": {},
   "outputs": [
    {
     "data": {
      "text/plain": [
       "<seaborn.axisgrid.FacetGrid at 0x7fd2a015af40>"
      ]
     },
     "execution_count": 21,
     "metadata": {},
     "output_type": "execute_result"
    },
    {
     "data": {
      "image/png": "[encoded data removed]",
      "text/plain": [
       "<Figure size 360x360 with 1 Axes>"
      ]
     },
     "metadata": {},
     "output_type": "display_data"
    }
   ],
   "source": [
    "sns.set_theme(style='whitegrid')\n",
    "cmap = sns.cubehelix_palette(rot = -.2, as_cmap=True)\n",
    "\n",
    "g = sns.relplot(data = data_2d, x=\"x\", y = 'y',palette=cmap,sizes=(10, 200),)\n",
    "#g.set(xscale=\"log\", yscale=\"log\")\n",
    "g.ax.xaxis.grid(True, \"minor\", linewidth=.25)\n",
    "g.ax.yaxis.grid(True, \"minor\", linewidth=.25)\n",
    "g.despine(left=True, bottom=True)"
   ]
  },
  {
   "cell_type": "code",
   "execution_count": 14,
   "id": "94a9401e",
   "metadata": {},
   "outputs": [
    {
     "data": {
      "text/html": [
       "<div>\n",
       "<style scoped>\n",
       "    .dataframe tbody tr th:only-of-type {\n",
       "        vertical-align: middle;\n",
       "    }\n",
       "\n",
       "    .dataframe tbody tr th {\n",
       "        vertical-align: top;\n",
       "    }\n",
       "\n",
       "    .dataframe thead th {\n",
       "        text-align: right;\n",
       "    }\n",
       "</style>\n",
       "<table border=\"1\" class=\"dataframe\">\n",
       "  <thead>\n",
       "    <tr style=\"text-align: right;\">\n",
       "      <th></th>\n",
       "      <th>x</th>\n",
       "      <th>y</th>\n",
       "    </tr>\n",
       "  </thead>\n",
       "  <tbody>\n",
       "    <tr>\n",
       "      <th>0</th>\n",
       "      <td>-1.863808</td>\n",
       "      <td>-0.421405</td>\n",
       "    </tr>\n",
       "    <tr>\n",
       "      <th>1</th>\n",
       "      <td>-0.201318</td>\n",
       "      <td>-0.077406</td>\n",
       "    </tr>\n",
       "    <tr>\n",
       "      <th>2</th>\n",
       "      <td>-1.280191</td>\n",
       "      <td>-1.639873</td>\n",
       "    </tr>\n",
       "    <tr>\n",
       "      <th>3</th>\n",
       "      <td>-2.316952</td>\n",
       "      <td>-0.596504</td>\n",
       "    </tr>\n",
       "    <tr>\n",
       "      <th>4</th>\n",
       "      <td>-3.769234</td>\n",
       "      <td>-1.495533</td>\n",
       "    </tr>\n",
       "    <tr>\n",
       "      <th>5</th>\n",
       "      <td>-1.555259</td>\n",
       "      <td>-0.461725</td>\n",
       "    </tr>\n",
       "    <tr>\n",
       "      <th>6</th>\n",
       "      <td>-1.690903</td>\n",
       "      <td>-0.757543</td>\n",
       "    </tr>\n",
       "    <tr>\n",
       "      <th>7</th>\n",
       "      <td>-2.303135</td>\n",
       "      <td>-0.849143</td>\n",
       "    </tr>\n",
       "    <tr>\n",
       "      <th>8</th>\n",
       "      <td>-1.536842</td>\n",
       "      <td>-0.834669</td>\n",
       "    </tr>\n",
       "    <tr>\n",
       "      <th>9</th>\n",
       "      <td>-1.260680</td>\n",
       "      <td>0.052067</td>\n",
       "    </tr>\n",
       "    <tr>\n",
       "      <th>10</th>\n",
       "      <td>10.260591</td>\n",
       "      <td>-5.792081</td>\n",
       "    </tr>\n",
       "    <tr>\n",
       "      <th>11</th>\n",
       "      <td>1.546373</td>\n",
       "      <td>1.389237</td>\n",
       "    </tr>\n",
       "    <tr>\n",
       "      <th>12</th>\n",
       "      <td>3.185852</td>\n",
       "      <td>1.304818</td>\n",
       "    </tr>\n",
       "    <tr>\n",
       "      <th>13</th>\n",
       "      <td>4.015079</td>\n",
       "      <td>-1.008718</td>\n",
       "    </tr>\n",
       "    <tr>\n",
       "      <th>14</th>\n",
       "      <td>2.352989</td>\n",
       "      <td>0.301752</td>\n",
       "    </tr>\n",
       "    <tr>\n",
       "      <th>15</th>\n",
       "      <td>-0.051339</td>\n",
       "      <td>0.738697</td>\n",
       "    </tr>\n",
       "    <tr>\n",
       "      <th>16</th>\n",
       "      <td>-0.201318</td>\n",
       "      <td>-0.077406</td>\n",
       "    </tr>\n",
       "    <tr>\n",
       "      <th>17</th>\n",
       "      <td>2.198484</td>\n",
       "      <td>2.155733</td>\n",
       "    </tr>\n",
       "    <tr>\n",
       "      <th>18</th>\n",
       "      <td>1.345829</td>\n",
       "      <td>1.563043</td>\n",
       "    </tr>\n",
       "    <tr>\n",
       "      <th>19</th>\n",
       "      <td>4.708699</td>\n",
       "      <td>7.174640</td>\n",
       "    </tr>\n",
       "    <tr>\n",
       "      <th>20</th>\n",
       "      <td>-1.298396</td>\n",
       "      <td>0.095181</td>\n",
       "    </tr>\n",
       "    <tr>\n",
       "      <th>21</th>\n",
       "      <td>-1.150981</td>\n",
       "      <td>-0.430716</td>\n",
       "    </tr>\n",
       "    <tr>\n",
       "      <th>22</th>\n",
       "      <td>-0.798819</td>\n",
       "      <td>-0.017652</td>\n",
       "    </tr>\n",
       "    <tr>\n",
       "      <th>23</th>\n",
       "      <td>-1.060382</td>\n",
       "      <td>-0.027111</td>\n",
       "    </tr>\n",
       "    <tr>\n",
       "      <th>24</th>\n",
       "      <td>-1.173707</td>\n",
       "      <td>-0.217045</td>\n",
       "    </tr>\n",
       "    <tr>\n",
       "      <th>25</th>\n",
       "      <td>-1.220560</td>\n",
       "      <td>0.042662</td>\n",
       "    </tr>\n",
       "    <tr>\n",
       "      <th>26</th>\n",
       "      <td>-1.228670</td>\n",
       "      <td>0.008526</td>\n",
       "    </tr>\n",
       "    <tr>\n",
       "      <th>27</th>\n",
       "      <td>-1.326869</td>\n",
       "      <td>-0.064727</td>\n",
       "    </tr>\n",
       "    <tr>\n",
       "      <th>28</th>\n",
       "      <td>-1.047308</td>\n",
       "      <td>0.016912</td>\n",
       "    </tr>\n",
       "    <tr>\n",
       "      <th>29</th>\n",
       "      <td>-1.277225</td>\n",
       "      <td>-0.074011</td>\n",
       "    </tr>\n",
       "  </tbody>\n",
       "</table>\n",
       "</div>"
      ],
      "text/plain": [
       "            x         y\n",
       "0   -1.863808 -0.421405\n",
       "1   -0.201318 -0.077406\n",
       "2   -1.280191 -1.639873\n",
       "3   -2.316952 -0.596504\n",
       "4   -3.769234 -1.495533\n",
       "5   -1.555259 -0.461725\n",
       "6   -1.690903 -0.757543\n",
       "7   -2.303135 -0.849143\n",
       "8   -1.536842 -0.834669\n",
       "9   -1.260680  0.052067\n",
       "10  10.260591 -5.792081\n",
       "11   1.546373  1.389237\n",
       "12   3.185852  1.304818\n",
       "13   4.015079 -1.008718\n",
       "14   2.352989  0.301752\n",
       "15  -0.051339  0.738697\n",
       "16  -0.201318 -0.077406\n",
       "17   2.198484  2.155733\n",
       "18   1.345829  1.563043\n",
       "19   4.708699  7.174640\n",
       "20  -1.298396  0.095181\n",
       "21  -1.150981 -0.430716\n",
       "22  -0.798819 -0.017652\n",
       "23  -1.060382 -0.027111\n",
       "24  -1.173707 -0.217045\n",
       "25  -1.220560  0.042662\n",
       "26  -1.228670  0.008526\n",
       "27  -1.326869 -0.064727\n",
       "28  -1.047308  0.016912\n",
       "29  -1.277225 -0.074011"
      ]
     },
     "execution_count": 14,
     "metadata": {},
     "output_type": "execute_result"
    }
   ],
   "source": [
    "data_2d"
   ]
  },
  {
   "cell_type": "code",
   "execution_count": 10,
   "id": "b6d36ddf",
   "metadata": {},
   "outputs": [
    {
     "name": "stdout",
     "output_type": "stream",
     "text": [
      "whales\n",
      "leviathan\n",
      "Leviathan\n",
      "fish\n",
      "vessel\n",
      "elephant\n",
      "whaleman\n",
      "creature\n",
      "monster\n",
      "part\n"
     ]
    }
   ],
   "source": [
    "for t in model.wv.most_similar('whale'):\n",
    "    print(t[0])"
   ]
  },
  {
   "cell_type": "code",
   "execution_count": 6,
   "id": "3dd65dc3",
   "metadata": {},
   "outputs": [
    {
     "data": {
      "text/plain": [
       "[('woman', 0.6291003823280334),\n",
       " ('whaleman', 0.571595311164856),\n",
       " ('sailor', 0.5575333833694458),\n",
       " ('governor', 0.5446456074714661),\n",
       " ('fellow', 0.5384546518325806),\n",
       " ('Mogul', 0.5377927422523499),\n",
       " ('Rad', 0.5361180901527405),\n",
       " ('Manxman', 0.5002564787864685),\n",
       " ('shipmate', 0.48481038212776184),\n",
       " ('age', 0.4665176570415497)]"
      ]
     },
     "execution_count": 6,
     "metadata": {},
     "output_type": "execute_result"
    }
   ],
   "source": [
    "model.wv.most_similar('man')"
   ]
  },
  {
   "cell_type": "code",
   "execution_count": 9,
   "id": "fc4ffec5",
   "metadata": {},
   "outputs": [
    {
     "data": {
      "text/plain": [
       "[('DICTIONARY', 0.8011600375175476),\n",
       " ('pirate', 0.796105146408081),\n",
       " ('Cadiz', 0.7954358458518982),\n",
       " ('KILLER', 0.7942451238632202),\n",
       " ('800', 0.792041540145874),\n",
       " ('Spaniard', 0.7917511463165283),\n",
       " ('IBID', 0.7913317084312439),\n",
       " ('constellation', 0.7889080047607422),\n",
       " ('Cachalot', 0.7875065207481384),\n",
       " ('RECLINING', 0.7873509526252747)]"
      ]
     },
     "execution_count": 9,
     "metadata": {},
     "output_type": "execute_result"
    }
   ],
   "source": [
    "model.wv.most_similar('demon')"
   ]
  },
  {
   "cell_type": "code",
   "execution_count": 1,
   "id": "3cbda4ed",
   "metadata": {},
   "outputs": [],
   "source": [
    "from gensim.models.keyedvectors import KeyedVectors\n",
    "word_vectors = KeyedVectors.load_word2vec_format('/Users/velazquezerick/Documents/NLP_in_action/GoogleNews-vectors-negative300.bin',binary=True)\n",
    "#word_vectors = get_data('word2vec')"
   ]
  },
  {
   "cell_type": "code",
   "execution_count": 3,
   "id": "f6a49ced",
   "metadata": {},
   "outputs": [
    {
     "data": {
      "text/plain": [
       "3000000"
      ]
     },
     "execution_count": 3,
     "metadata": {},
     "output_type": "execute_result"
    }
   ],
   "source": [
    "len(word_vectors)"
   ]
  },
  {
   "cell_type": "code",
   "execution_count": 2,
   "id": "71d2c931",
   "metadata": {},
   "outputs": [
    {
     "data": {
      "text/plain": [
       "[('woman', 0.7664012908935547),\n",
       " ('boy', 0.6824871301651001),\n",
       " ('teenager', 0.6586930155754089),\n",
       " ('teenage_girl', 0.6147903203964233),\n",
       " ('girl', 0.5921714305877686),\n",
       " ('suspected_purse_snatcher', 0.571636438369751),\n",
       " ('robber', 0.5585119128227234),\n",
       " ('Robbery_suspect', 0.5584409832954407),\n",
       " ('teen_ager', 0.5549196600914001),\n",
       " ('men', 0.5489763021469116)]"
      ]
     },
     "execution_count": 2,
     "metadata": {},
     "output_type": "execute_result"
    }
   ],
   "source": [
    "word_vectors.most_similar('man')"
   ]
  },
  {
   "cell_type": "code",
   "execution_count": null,
   "id": "a9bcd6a9",
   "metadata": {},
   "outputs": [],
   "source": []
  }
 ],
 "metadata": {
  "kernelspec": {
   "display_name": "Python 3 (ipykernel)",
   "language": "python",
   "name": "python3"
  },
  "language_info": {
   "codemirror_mode": {
    "name": "ipython",
    "version": 3
   },
   "file_extension": ".py",
   "mimetype": "text/x-python",
   "name": "python",
   "nbconvert_exporter": "python",
   "pygments_lexer": "ipython3",
   "version": "3.9.0"
  }
 },
 "nbformat": 4,
 "nbformat_minor": 5
}
